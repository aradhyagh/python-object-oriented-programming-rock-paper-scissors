{
 "cells": [
  {
   "cell_type": "code",
   "execution_count": 1,
   "id": "5b544dc6-8c01-4c28-a97f-3b4bdf24f38c",
   "metadata": {},
   "outputs": [
    {
     "name": "stdout",
     "output_type": "stream",
     "text": [
      "yoo hii!\n",
      "\n",
      "Welcome To the rock paper scissor game\n",
      "\n",
      "Choose any Options below:\n",
      "1. Play\n",
      "2. Points table\n",
      "3. Exit\n",
      "\n",
      "Enter your choice (1-3): \n"
     ]
    },
    {
     "name": "stdin",
     "output_type": "stream",
     "text": [
      "  d\n"
     ]
    },
    {
     "name": "stdout",
     "output_type": "stream",
     "text": [
      "\n",
      "Invalid choice! Please enter a number between 1 and 3.\n",
      "\n",
      "Choose any Options below:\n",
      "1. Play\n",
      "2. Points table\n",
      "3. Exit\n",
      "\n",
      "Enter your choice (1-3): \n"
     ]
    },
    {
     "name": "stdin",
     "output_type": "stream",
     "text": [
      "  1\n"
     ]
    },
    {
     "name": "stdout",
     "output_type": "stream",
     "text": [
      "okay, lets play\n",
      "please choose between r/p/s for rock paper scissors respectively:\n"
     ]
    },
    {
     "name": "stdin",
     "output_type": "stream",
     "text": [
      "  r\n"
     ]
    },
    {
     "name": "stdout",
     "output_type": "stream",
     "text": [
      "you have choosed Rock\n",
      "player has choosen paper\n",
      "you lossed\n",
      "\n",
      "Choose any Options below:\n",
      "1. Play\n",
      "2. Points table\n",
      "3. Exit\n",
      "\n",
      "Enter your choice (1-3): \n"
     ]
    },
    {
     "name": "stdin",
     "output_type": "stream",
     "text": [
      "  2\n"
     ]
    },
    {
     "name": "stdout",
     "output_type": "stream",
     "text": [
      "\n",
      "Thanks for playing. \n",
      "Points Table: \n",
      "You: 0 \n",
      "Bot: 1\n",
      "\n",
      "Choose any Options below:\n",
      "1. Play\n",
      "2. Points table\n",
      "3. Exit\n",
      "\n",
      "Enter your choice (1-3): \n"
     ]
    },
    {
     "name": "stdin",
     "output_type": "stream",
     "text": [
      "  3\n"
     ]
    },
    {
     "name": "stdout",
     "output_type": "stream",
     "text": [
      "\n",
      "Thanks for playing. \n",
      "Points Table: \n",
      "You: 0 \n",
      "Bot: 1\n"
     ]
    }
   ],
   "source": [
    "class play:\n",
    "    def __init__(self):\n",
    "        self.myscore = 0\n",
    "        self.botscore = 0\n",
    "\n",
    "    def play(self):\n",
    "        import random\n",
    "\n",
    "        options= [\"rock\",\"paper\",\"scissors\"]\n",
    "        player_choosed = random.choice(options)\n",
    "        print(\"okay, lets play\")\n",
    "        print(\"please choose between r/p/s for rock paper scissors respectively:\")\n",
    "        a = input(\" \")\n",
    "        if a==\"r\":\n",
    "            print(\"you have choosed Rock\")\n",
    "            if player_choosed==\"paper\":\n",
    "                print(\"player has choosen paper\")\n",
    "                print(\"you lossed\")\n",
    "                self.botscore = self.botscore +1\n",
    "            if player_choosed==\"scissors\":\n",
    "                print(\"player has choosen scissors\")\n",
    "                print(\"you won\")\n",
    "                self.myscore = self.myscore +1\n",
    "            if player_choosed==\"rock\":\n",
    "                print(\"player has choosen rock\")\n",
    "                print(\"the game is draw\")\n",
    "        elif a==\"p\":\n",
    "            print(\"you have choosed paper\")\n",
    "            if player_choosed==\"paper\":\n",
    "                print(\"player has choosen paper\")\n",
    "                print(\"the game is draw\")\n",
    "            if player_choosed==\"scissors\":\n",
    "                print(\"player has choosen scissors\")\n",
    "                print(\"you lossed\")\n",
    "                self.botscore = self.botscore +1\n",
    "            if player_choosed==\"rock\":\n",
    "                print(\"player has choosen rock\")\n",
    "                print(\"you won\")\n",
    "                self.myscore = self.myscore +1\n",
    "        elif a==\"s\":\n",
    "            print(\"you have choosed scissors\")\n",
    "            if player_choosed==\"paper\":\n",
    "                print(\"player has choosen paper\")\n",
    "                print(\"you won\")\n",
    "                self.myscore = self.myscore +1\n",
    "            if player_choosed==\"scissors\":\n",
    "                print(\"player has choosen scissors\")\n",
    "                print(\"the game is draw\")\n",
    "            if player_choosed==\"rock\":\n",
    "                print(\"player has choosen rock\")\n",
    "                print(\"you lossed\")\n",
    "                self.botscore = self.botscore +1\n",
    "        else:\n",
    "            self.play()\n",
    "    \n",
    "    def points(self):\n",
    "        print(f\"\\nThanks for playing. \\nPoints Table: \\nYou: {self.myscore} \\nBot: {self.botscore}\")\n",
    "\n",
    "    def start(self):\n",
    "        print(\"yoo hii!\")\n",
    "        print(\"\\nWelcome To the rock paper scissor game\")\n",
    "\n",
    "        while True:\n",
    "            print(\"\\nChoose any Options below:\")\n",
    "            print(\"1. Play\")\n",
    "            print(\"2. Points table\")\n",
    "            print(\"3. Exit\")\n",
    "            print(\"\\nEnter your choice (1-3): \")\n",
    "            choice = str(input(\" \"))\n",
    "\n",
    "            if choice == \"1\":\n",
    "                self.play()\n",
    "            elif choice == \"2\":\n",
    "                self.points()\n",
    "            elif choice == \"3\":\n",
    "                print(f\"\\nThanks for playing. \\nPoints Table: \\nYou: {self.myscore} \\nBot: {self.botscore}\")\n",
    "                break  # Exit the loop\n",
    "            else:\n",
    "                print(\"\\nInvalid choice! Please enter a number between 1 and 3.\")\n",
    "\n",
    "app = play()\n",
    "app.start()"
   ]
  },
  {
   "cell_type": "code",
   "execution_count": null,
   "id": "6ca9a98b-44f4-4126-b92e-6ddfb85cc0bc",
   "metadata": {},
   "outputs": [],
   "source": []
  }
 ],
 "metadata": {
  "kernelspec": {
   "display_name": "Python 3 (ipykernel)",
   "language": "python",
   "name": "python3"
  },
  "language_info": {
   "codemirror_mode": {
    "name": "ipython",
    "version": 3
   },
   "file_extension": ".py",
   "mimetype": "text/x-python",
   "name": "python",
   "nbconvert_exporter": "python",
   "pygments_lexer": "ipython3",
   "version": "3.12.6"
  }
 },
 "nbformat": 4,
 "nbformat_minor": 5
}
